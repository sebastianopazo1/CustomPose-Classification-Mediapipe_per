{
 "cells": [
  {
   "cell_type": "code",
   "execution_count": null,
   "metadata": {
    "vscode": {
     "languageId": "plaintext"
    }
   },
   "outputs": [],
   "source": [
    "import keras\n",
    "import pandas as pd\n",
    "from keras import layers, Sequential\n",
    "import argparse\n",
    "from matplotlib import pyplot as plt\n",
    "import os\n",
    "import numpy as np\n",
    "import time\n",
    "import joblib\n",
    "from sklearn.metrics import classification_report\n",
    "from sklearn.preprocessing import StandardScaler, RobustScaler\n",
    "from keras.regularizers import l2\n",
    "from keras.callbacks import ReduceLROnPlateau"
   ]
  },
  {
   "cell_type": "code",
   "execution_count": null,
   "metadata": {
    "vscode": {
     "languageId": "plaintext"
    }
   },
   "outputs": [],
   "source": [
    "def create_model(input_shape, num_classes, dropout_rate=0.3):\n",
    "    \n",
    "    model = Sequential([\n",
    "        # Capa de entrada con normalización\n",
    "        layers.BatchNormalization(input_shape=input_shape),\n",
    "        \n",
    "        # Primera capa densa con más unidades y regularización\n",
    "        layers.Dense(1024, kernel_regularizer=l2(0.01)),\n",
    "        layers.BatchNormalization(),\n",
    "        layers.Activation('relu'),\n",
    "        layers.Dropout(dropout_rate),\n",
    "        \n",
    "        # Segunda capa con skip connection\n",
    "        layers.Dense(512, kernel_regularizer=l2(0.01)),\n",
    "        layers.BatchNormalization(),\n",
    "        layers.Activation('relu'),\n",
    "        layers.Dropout(dropout_rate),\n",
    "        \n",
    "        # Tercera capa con atención a las características espaciales\n",
    "        layers.Dense(256, kernel_regularizer=l2(0.01)),\n",
    "        layers.BatchNormalization(),\n",
    "        layers.Activation('relu'),\n",
    "        layers.Dropout(dropout_rate),\n",
    "        \n",
    "        # Capa de salida\n",
    "        layers.Dense(num_classes, activation=\"softmax\")\n",
    "    ])\n",
    "    return model"
   ]
  },
  {
   "cell_type": "code",
   "execution_count": null,
   "metadata": {
    "vscode": {
     "languageId": "plaintext"
    }
   },
   "outputs": [],
   "source": []
  }
 ],
 "metadata": {
  "language_info": {
   "name": "python"
  }
 },
 "nbformat": 4,
 "nbformat_minor": 2
}
